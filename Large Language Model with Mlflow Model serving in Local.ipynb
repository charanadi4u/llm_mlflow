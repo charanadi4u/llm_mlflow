{
 "cells": [
  {
   "cell_type": "code",
   "execution_count": 23,
   "id": "5e73a520-7f36-4bcc-90b4-d17ce2434156",
   "metadata": {},
   "outputs": [
    {
     "name": "stderr",
     "output_type": "stream",
     "text": [
      "G:\\Anaconda3\\Lib\\site-packages\\mlflow\\types\\utils.py:406: UserWarning: Hint: Inferred schema contains integer column(s). Integer columns in Python cannot represent missing values. If your input data contains missing values at inference time, it will be encoded as floats and will cause a schema enforcement error. The best way to avoid this problem is to infer the model schema based on a realistic data sample (training dataset) that includes missing values. Alternatively, you can declare integer columns as doubles (float64) whenever these columns may have missing values. See `Handling Integers With Missing Values <https://www.mlflow.org/docs/latest/models.html#handling-integers-with-missing-values>`_ for more details.\n",
      "  warnings.warn(\n",
      "2024/07/07 01:34:15 INFO mlflow.tracking.fluent: Experiment with name 'Cooking Assistant' does not exist. Creating a new experiment.\n",
      "G:\\Anaconda3\\Lib\\site-packages\\_distutils_hack\\__init__.py:18: UserWarning: Distutils was imported before Setuptools, but importing Setuptools also replaces the `distutils` module in `sys.modules`. This may lead to undesirable behaviors or errors. To avoid these issues, avoid using distutils directly, ensure that setuptools is installed in the traditional way (e.g. not an editable install), and/or make sure that setuptools is always imported before distutils.\n",
      "  warnings.warn(\n",
      "G:\\Anaconda3\\Lib\\site-packages\\_distutils_hack\\__init__.py:33: UserWarning: Setuptools is replacing distutils.\n",
      "  warnings.warn(\"Setuptools is replacing distutils.\")\n"
     ]
    },
    {
     "name": "stdout",
     "output_type": "stream",
     "text": [
      "Model logged: <mlflow.models.model.ModelInfo object at 0x0000022AA36F0310>\n",
      "Run ID: cb6660e8a28e4796a65380762d3b59f6\n",
      "Experiment ID: 707330915083176171\n"
     ]
    }
   ],
   "source": [
    "import os\n",
    "import mlflow\n",
    "from mlflow.pyfunc import PythonModel\n",
    "from langchain_groq import ChatGroq\n",
    "from langchain.chains import LLMChain\n",
    "from langchain.prompts import PromptTemplate\n",
    "from langchain import __version__ as langchain_version\n",
    "\n",
    "class SousChefPreparation(PythonModel):\n",
    "    def load_context(self, context):\n",
    "        self.model_name = \"llama3-70b-8192\"\n",
    "        self.api_key = os.getenv(\"GROQ_API_KEY\")\n",
    "        self.max_tokens = 1000\n",
    "\n",
    "        self.llm = ChatGroq(model=self.model_name, api_key=self.api_key, max_tokens=self.max_tokens)\n",
    "\n",
    "        template_instruction = (\n",
    "            \"Imagine you are a fine dining sous chef. Your task is to meticulously prepare for a dish, focusing on the mise-en-place process.\"\n",
    "            \"Given a recipe, your responsibilities are: \"\n",
    "            \"1. List the Ingredients: Carefully itemize all ingredients required for the dish, ensuring every element is accounted for. \"\n",
    "            \"2. Preparation Techniques: Describe the techniques and operations needed for preparing each ingredient. This includes cutting, \"\n",
    "            \"processing, or any other form of preparation. Focus on the art of mise-en-place, ensuring everything is perfectly set up before cooking begins.\"\n",
    "            \"3. Ingredient Staging: Provide detailed instructions on how to stage and arrange each ingredient. Explain where each item should be placed for \"\n",
    "            \"efficient access during the cooking process. Consider the timing and sequence of use for each ingredient. \"\n",
    "            \"4. Cooking Implements Preparation: Enumerate all the cooking tools and implements needed for each phase of the dish's preparation. \"\n",
    "            \"Detail any specific preparation these tools might need before the actual cooking starts and describe what pots, pans, dishes, and \"\n",
    "            \"other tools will be needed for the final preparation.\"\n",
    "            \"Remember, your guidance stops at the preparation stage. Do not delve into the actual cooking process of the dish. \"\n",
    "            \"Your goal is to set the stage flawlessly for the chef to execute the cooking seamlessly.\"\n",
    "            \"The recipe you are given is for: {recipe} for {customer_count} people. \"\n",
    "        )\n",
    "\n",
    "        self.prompt = PromptTemplate(\n",
    "            input_variables=[\"recipe\", \"customer_count\"],\n",
    "            template=template_instruction,\n",
    "        )\n",
    "\n",
    "        self.chain = LLMChain(llm=self.llm, prompt=self.prompt)\n",
    "\n",
    "    def _build_prompt(self, instruction):\n",
    "        return self.prompt.format(instruction)\n",
    "\n",
    "    def predict(self, context, model_input, params=None):\n",
    "        recipe = model_input[\"recipe\"]\n",
    "        customer_count = model_input[\"customer_count\"]\n",
    "        run_name = params.get(\"run_name\", \"SousChefPreparationRun\") if params else \"SousChefPreparationRun\"\n",
    "\n",
    "        with mlflow.start_run(run_name=run_name) as run:\n",
    "            mlflow.log_param(\"model_name\", self.model_name)\n",
    "            mlflow.log_param(\"max_tokens\", self.max_tokens)\n",
    "            mlflow.log_param(\"recipe\", recipe)\n",
    "            mlflow.log_param(\"customer_count\", customer_count)\n",
    "\n",
    "            try:\n",
    "                result = self.chain.run({\"recipe\": recipe, \"customer_count\": customer_count})\n",
    "\n",
    "                mlflow.log_metric(\"preparation_length\", len(result))\n",
    "\n",
    "                with open(\"preparation_instructions.txt\", \"w\") as f:\n",
    "                    f.write(result)\n",
    "\n",
    "                mlflow.log_artifact(\"preparation_instructions.txt\")\n",
    "\n",
    "                return result\n",
    "\n",
    "            except Exception as e:\n",
    "                mlflow.log_param(\"error\", str(e))\n",
    "                raise e\n",
    "\n",
    "# Example Usage:\n",
    "if __name__ == \"__main__\":\n",
    "    input_example = {\n",
    "        \"recipe\": \"Spaghetti Carbonara\",\n",
    "        \"customer_count\": 4\n",
    "    }\n",
    "    signature = mlflow.models.signature.infer_signature(input_example)\n",
    "    mlflow.set_tracking_uri(\"http://localhost:5000\")\n",
    "    mlflow.set_experiment(\"Cooking Assistant\")\n",
    "    \n",
    "    with mlflow.start_run(run_name=\"Cooking_Assistant_Run\") as run:\n",
    "        model_info = mlflow.pyfunc.log_model(\n",
    "            artifact_path=\"Cooking_Assistance\",\n",
    "            python_model=SousChefPreparation(),\n",
    "            pip_requirements=[\n",
    "                \"langchain_groq==0.1.6\",  # Specify the correct version if known\n",
    "                f\"langchain=={langchain_version}\"\n",
    "            ],\n",
    "            input_example=input_example,\n",
    "            signature=signature,\n",
    "        )\n",
    "        \n",
    "        # Log model details\n",
    "        mlflow.log_param(\"langchain_version\", langchain_version)\n",
    "        mlflow.log_param(\"langchain_groq_version\", \"0.1.6\")\n",
    "        \n",
    "        # Print model info for debugging\n",
    "        print(f\"Model logged: {model_info}\")\n",
    "        print(f\"Run ID: {run.info.run_id}\")\n",
    "        print(f\"Experiment ID: {run.info.experiment_id}\")\n"
   ]
  },
  {
   "cell_type": "code",
   "execution_count": 25,
   "id": "55da60cf-fb12-4968-8741-20de5b9f5263",
   "metadata": {},
   "outputs": [
    {
     "data": {
      "application/vnd.jupyter.widget-view+json": {
       "model_id": "4e3eeeb24a80479880922a4bde17b6fe",
       "version_major": 2,
       "version_minor": 0
      },
      "text/plain": [
       "Downloading artifacts:   0%|          | 0/10 [00:00<?, ?it/s]"
      ]
     },
     "metadata": {},
     "output_type": "display_data"
    },
    {
     "name": "stdout",
     "output_type": "stream",
     "text": [
      "Prediction result: The art of mise-en-place for Spaghetti Carbonara! Let's dive into the meticulous preparation process for this classic Italian dish.\n",
      "\n",
      "**Ingredients:**\n",
      "\n",
      "For 4 people:\n",
      "\n",
      "* 400g spaghetti\n",
      "* 4 large eggs\n",
      "* 120g guanciale or pancetta, thinly sliced\n",
      "* 120g Parmesan cheese, grated\n",
      "* 20g black pepper, freshly ground\n",
      "* Salt, to taste\n",
      "* Fresh parsley, chopped (optional)\n",
      "\n",
      "**Preparation Techniques:**\n",
      "\n",
      "1. Spaghetti:\n",
      "\t* Measure and portion out the correct amount of spaghetti.\n",
      "\t* Store in a dry, clean area, away from direct sunlight.\n",
      "2. Eggs:\n",
      "\t* Crack and separate the eggs into individual containers.\n",
      "\t* Whisk the egg yolks until smooth and set aside.\n",
      "\t* Reserve the egg whites for another use or discard.\n",
      "3. Guanciale or Pancetta:\n",
      "\t* Slice the guanciale or pancetta into thin strips.\n",
      "\t* Cut the strips into smaller pieces, approximately 1-2 cm in length.\n",
      "\t* Place the pieces on a paper towel-lined plate to drain excess fat.\n",
      "4. Parmesan Cheese:\n",
      "\t* Grate the Parmesan cheese using a microplane or fine grater.\n",
      "\t* Store the grated cheese in an airtight container to prevent moisture absorption.\n",
      "5. Black Pepper:\n",
      "\t* Grind the black peppercorns using a pepper mill.\n",
      "\t* Store the freshly ground pepper in a small bowl or container.\n",
      "\n",
      "**Ingredient Staging:**\n",
      "\n",
      "1. Spaghetti:\n",
      "\t* Place the portioned spaghetti near the cooking station, within easy reach.\n",
      "2. Eggs:\n",
      "\t* Position the whisked egg yolks near the cooking station, alongside the spaghetti.\n",
      "\t* Store the egg containers in a designated area, away from direct sunlight.\n",
      "3. Guanciale or Pancetta:\n",
      "\t* Arrange the prepared guanciale or pancetta pieces on a paper towel-lined plate, near the cooking station.\n",
      "4. Parmesan Cheese:\n",
      "\t* Place the grated Parmesan cheese in a small bowl or container near the cooking station.\n",
      "5. Black Pepper:\n",
      "\t* Position the freshly ground black pepper near the cooking station, alongside the Parmesan cheese.\n",
      "\n",
      "**Cooking Implements Preparation:**\n",
      "\n",
      "1. Pots and Pans:\n",
      "\t* Large pot for cooking spaghetti (filled with salted water and brought to a boil)\n",
      "\t* Medium saucepan for whisking egg yolks and cooking guanciale or pancetta\n",
      "2. Utensils:\n",
      "\t* Colander or strainer for draining spaghetti\n",
      "\t* Whisk for whisking egg yolks\n",
      "\t* Slotted spoon for removing cooked guanciale or pancetta\n",
      "\t* Tongs or fork for serving spaghetti\n",
      "3. Dishes and Containers:\n",
      "\t* Plate for serving the finished dish\n",
      "\t* Small bowl or container for holding grated Parmesan cheese\n",
      "\t* Small bowl or container for holding freshly ground black pepper\n",
      "4. Miscellaneous:\n",
      "\t* Paper towels for draining excess fat from guanciale or pancetta\n",
      "\t* Trash can for disposing of egg whites and other waste\n",
      "\n",
      "With these ingredients, techniques, and implements prepared and staged, the chef is now ready to execute the cooking process with precision and ease. The stage is set for a flawless Spaghetti Carbonara!\n"
     ]
    }
   ],
   "source": [
    "def test_model():\n",
    "    import mlflow.pyfunc\n",
    "\n",
    "    # Load the model\n",
    "    model_uri = \"runs:/cb6660e8a28e4796a65380762d3b59f6/Cooking_Assistance\"  # Replace <run_id> with the actual run ID\n",
    "    model = mlflow.pyfunc.load_model(model_uri)\n",
    "\n",
    "    # Example input for prediction\n",
    "    input_example = {\n",
    "        \"recipe\": \"Spaghetti Carbonara\",\n",
    "        \"customer_count\": 4\n",
    "    }\n",
    "\n",
    "    # Make a prediction\n",
    "    result = model.predict(input_example)\n",
    "    print(\"Prediction result:\", result)\n",
    "\n",
    "# Replace <run_id> with the actual run ID after registering the model\n",
    "test_model()"
   ]
  },
  {
   "cell_type": "code",
   "execution_count": 36,
   "id": "6fcf900c-8b29-482e-a84d-9d7f8a5effd3",
   "metadata": {},
   "outputs": [
    {
     "name": "stderr",
     "output_type": "stream",
     "text": [
      "Successfully registered model 'Cooking_Master_V2'.\n",
      "2024/07/07 02:36:28 INFO mlflow.store.model_registry.abstract_store: Waiting up to 300 seconds for model version to finish creation. Model name: Cooking_Master_V2, version 1\n",
      "Created version '1' of model 'Cooking_Master_V2'.\n"
     ]
    }
   ],
   "source": [
    "import mlflow\n",
    "run_name=\"Cooking_Assistant_Run\"\n",
    "with mlflow.start_run(run_name=run_name) as run:\n",
    "    result = mlflow.register_model(\n",
    "        \"runs:/cb6660e8a28e4796a65380762d3b59f6/model\",\n",
    "        \"Cooking_Master_V2\"\n",
    "    )"
   ]
  },
  {
   "cell_type": "code",
   "execution_count": 37,
   "id": "cb8cfd61-f8b0-4f0e-a868-6ea8fe1afe09",
   "metadata": {},
   "outputs": [
    {
     "name": "stderr",
     "output_type": "stream",
     "text": [
      "C:\\Users\\mural\\AppData\\Local\\Temp\\ipykernel_4732\\1113642734.py:2: FutureWarning: ``mlflow.tracking.client.MlflowClient.transition_model_version_stage`` is deprecated since 2.9.0. Model registry stages will be removed in a future major release. To learn more about the deprecation of model registry stages, see our migration guide here: https://mlflow.org/docs/latest/model-registry.html#migrating-from-stages\n",
      "  client.transition_model_version_stage(\n"
     ]
    },
    {
     "data": {
      "text/plain": [
       "<ModelVersion: aliases=[], creation_timestamp=1720299988301, current_stage='Production', description='', last_updated_timestamp=1720300002492, name='Cooking_Master_V2', run_id='cb6660e8a28e4796a65380762d3b59f6', run_link='', source='mlflow-artifacts:/707330915083176171/cb6660e8a28e4796a65380762d3b59f6/artifacts/model', status='READY', status_message='', tags={}, user_id='', version='1'>"
      ]
     },
     "execution_count": 37,
     "metadata": {},
     "output_type": "execute_result"
    }
   ],
   "source": [
    "client = mlflow.tracking.MlflowClient()\n",
    "client.transition_model_version_stage(\n",
    "    name=\"Cooking_Master_V2\",\n",
    "    version=1,\n",
    "    stage=\"Production\"\n",
    ")"
   ]
  },
  {
   "cell_type": "code",
   "execution_count": 35,
   "id": "2ef118d7-5e83-453e-909b-4d4cb59c05ad",
   "metadata": {
    "scrolled": true
   },
   "outputs": [
    {
     "data": {
      "application/vnd.jupyter.widget-view+json": {
       "model_id": "e8691c1662124215b3dbf6a86a9ccd19",
       "version_major": 2,
       "version_minor": 0
      },
      "text/plain": [
       "Downloading artifacts:   0%|          | 0/10 [00:00<?, ?it/s]"
      ]
     },
     "metadata": {},
     "output_type": "display_data"
    },
    {
     "name": "stdout",
     "output_type": "stream",
     "text": [
      "Prediction result: The classic Spaghetti Carbonara! Let's get started on the meticulous preparation for this dish.\n",
      "\n",
      "**Ingredients:**\n",
      "\n",
      "For 4 people, we'll need:\n",
      "\n",
      "* 12 oz (340g) spaghetti\n",
      "* 4 oz (115g) guanciale or pancetta, thinly sliced\n",
      "* 3 large eggs\n",
      "* 1 cup (250ml) grated Parmesan cheese\n",
      "* Salt, black pepper\n",
      "* Fresh parsley, chopped (optional)\n",
      "* Extra virgin olive oil\n",
      "\n",
      "**Preparation Techniques:**\n",
      "\n",
      "1. **Spaghetti:** No preparation needed, but ensure the spaghetti is stored in an airtight container to maintain freshness.\n",
      "2. **Guanciale or Pancetta:** Slice the guanciale or pancetta into thin strips, approximately 1/4 inch (6mm) thick. This will help it cook evenly and quickly.\n",
      "3. **Eggs:** Crack the eggs into a bowl and whisk them lightly with a fork. Set aside.\n",
      "4. **Parmesan Cheese:** Grate the Parmesan cheese using a microplane or fine grater. This will ensure a smooth, even texture.\n",
      "5. **Parsley:** Chop the parsley leaves finely, if using as a garnish.\n",
      "\n",
      "**Ingredient Staging:**\n",
      "\n",
      "1. **Spaghetti:** Store the spaghetti in a designated container, easily accessible near the cooking station.\n",
      "2. **Guanciale or Pancetta:** Place the sliced guanciale or pancetta on a parchment-lined tray or plate, covered with plastic wrap to prevent drying out. Position it near the cooking station.\n",
      "3. **Eggs:** Keep the whisked eggs in a small bowl, covered with plastic wrap, and place it near the cooking station.\n",
      "4. **Parmesan Cheese:** Transfer the grated Parmesan cheese to a small bowl or ramekin, covered with plastic wrap. Position it near the cooking station.\n",
      "5. **Parsley:** Place the chopped parsley in a small bowl or ramekin, covered with plastic wrap, and position it near the garnishing station.\n",
      "\n",
      "**Cooking Implements Preparation:**\n",
      "\n",
      "1. **Large Pot:** Fill a large pot with salted water and bring it to a boil. This will be used for cooking the spaghetti.\n",
      "2. **Colander:** Place a colander in the sink or near the pot to drain the cooked spaghetti.\n",
      "3. **Skillet or Pan:** Choose a skillet or pan that can accommodate the guanciale or pancetta and eggs. Ensure it's clean and dry before use.\n",
      "4. **Whisk:** Have a whisk ready to mix the eggs and Parmesan cheese.\n",
      "5. **Tongs or Slotted Spoon:** Prepare tongs or a slotted spoon to remove the cooked spaghetti from the pot.\n",
      "6. **Plates:** Set four plates near the garnishing station to assemble the final dish.\n",
      "7. **Olive Oil:** Have a bottle of extra virgin olive oil nearby to add a finishing touch to the dish.\n",
      "\n",
      "With all ingredients prepared, staged, and cooking implements ready, we're set for a seamless cooking process. The chef can now execute the dish with confidence, knowing that every element is perfectly in place.\n"
     ]
    }
   ],
   "source": [
    "import mlflow.pyfunc\n",
    "\n",
    "model_name = \"Cooking_Master_V1\"\n",
    "stage = 'Production'\n",
    "\n",
    "model = mlflow.pyfunc.load_model(\n",
    "    model_uri=\"runs:/cb6660e8a28e4796a65380762d3b59f6/Cooking_Assistance\"\n",
    ")\n",
    "\n",
    "input_example = {\n",
    "        \"recipe\": \"Spaghetti Carbonara\",\n",
    "        \"customer_count\": 4\n",
    "    }\n",
    "\n",
    "result = model.predict(input_example)\n",
    "print(\"Prediction result:\", result)"
   ]
  },
  {
   "cell_type": "markdown",
   "id": "e7bb1640-4af9-49fb-9bd3-6cd87ab1ce0d",
   "metadata": {},
   "source": [
    "Serving an MLflow Model from Model Registry\r\n",
    "\r\n",
    "Now run this command from command line\r\n",
    "\r\n",
    "set MLFLOW_TRACKING_URI=http://localhost:5000\r\n",
    "\r\n",
    "make sure to write the different port - other than the one you used while starting mlflow server\r\n",
    "\r\n",
    "mlflow models serve --model-uri models:/Cooking_Master_V1/3 -p 1234 --no-conda  --For new version of mlflow user the version number instead of stage\r\n",
    "\r\n",
    "mlflow models serve --model-uri models:/iris-classifier/Production -p 1234 --no-conda"
   ]
  },
  {
   "cell_type": "code",
   "execution_count": 39,
   "id": "3b53ce50-dda1-4d8b-830c-efb230c110a8",
   "metadata": {},
   "outputs": [
    {
     "name": "stdout",
     "output_type": "stream",
     "text": [
      "Response status code: 200\n",
      "Response JSON: {'predictions': \"The classic Spaghetti Carbonara! Let's break down the mise-en-place process to ensure a flawless execution of this dish.\\n\\n**Ingredients:**\\n\\nFor 4 people:\\n\\n* 12 oz (340g) spaghetti\\n* 4 large eggs\\n* 4 oz (115g) guanciale or pancetta, sliced into thin strips\\n* 1 cup (250ml) grated Parmesan cheese\\n* Salt, to taste\\n* Freshly ground black pepper, to taste\\n* Fresh parsley, chopped (optional)\\n\\n**Preparation Techniques:**\\n\\n* Spaghetti: Measure and set aside.\\n* Eggs: Crack and whisk together in a bowl, set aside.\\n* Guanciale or pancetta: Slice into thin strips, then cut into smaller pieces (about 1 inch / 2.5 cm long). Set aside.\\n* Parmesan cheese: Grate and set aside.\\n* Salt and black pepper: Measure and set aside.\\n* Fresh parsley: Chop and set aside (if using).\\n\\n**Ingredient Staging:**\\n\\n* Place the measured spaghetti on a designated station, easily accessible for cooking.\\n* Position the whisked eggs near the cooking station, as they will be used towards the end of the dish.\\n* Arrange the sliced guanciale or pancetta on a plate or tray, within arm's reach, to ensure efficient addition during the cooking process.\\n* Set the grated Parmesan cheese in a small bowl or ramekin, nearby, for easy sprinkling.\\n* Place the salt and black pepper near the cooking station, for seasoning as needed.\\n* If using fresh parsley, place it in a small bowl or ramekin, nearby, for garnishing.\\n\\n**Cooking Implements Preparation:**\\n\\n* Large pot (at least 4-quart capacity) for cooking spaghetti: Fill with salted water and bring to a boil.\\n* Colander or strainer: Place nearby to drain cooked spaghetti.\\n* Chef's knife: Sharpen and have ready for any last-minute adjustments.\\n* Cutting board: Prepare a clean and dry cutting board for any additional prep work.\\n* Whisk: Have a clean whisk ready for mixing eggs and cheese.\\n* Wooden spoon or silicone spatula: Prepare a heat-resistant spoon or spatula for cooking and stirring.\\n* Medium saucepan (at least 2-quart capacity) for cooking guanciale or pancetta: Heat over medium heat, ready to add the sliced meat.\\n* Plate or tray for serving: Prepare a clean plate or tray for assembling the final dish.\\n\\nBy meticulously preparing these ingredients, techniques, and implements, we've set the stage for a flawless execution of the Spaghetti Carbonara dish. The chef can now focus on cooking the dish, confident that every element is in place and ready to be transformed into a culinary masterpiece.\"}\n"
     ]
    }
   ],
   "source": [
    "import requests\n",
    "import json\n",
    "\n",
    "# Define the endpoint URL\n",
    "endpoint = \"http://localhost:1234/invocations\"\n",
    "\n",
    "# Define the input example\n",
    "input_example = {\n",
    "    \"recipe\": \"Spaghetti Carbonara\",\n",
    "    \"customer_count\": 4\n",
    "}\n",
    "\n",
    "# Convert the input example to the required format\n",
    "input_data = {\"inputs\": [input_example]}\n",
    "\n",
    "# Convert the input data to JSON\n",
    "input_json = json.dumps(input_data)\n",
    "\n",
    "# Define the headers\n",
    "headers = {\"Content-Type\": \"application/json\"}\n",
    "\n",
    "# Send a POST request to the endpoint\n",
    "response = requests.post(endpoint, data=input_json, headers=headers)\n",
    "\n",
    "# Print the response\n",
    "print(\"Response status code:\", response.status_code)\n",
    "print(\"Response JSON:\", response.json())\n"
   ]
  },
  {
   "cell_type": "code",
   "execution_count": null,
   "id": "f9f2dc9c-5399-4007-86ea-59ad37624270",
   "metadata": {},
   "outputs": [],
   "source": []
  }
 ],
 "metadata": {
  "kernelspec": {
   "display_name": "Python 3 (ipykernel)",
   "language": "python",
   "name": "python3"
  },
  "language_info": {
   "codemirror_mode": {
    "name": "ipython",
    "version": 3
   },
   "file_extension": ".py",
   "mimetype": "text/x-python",
   "name": "python",
   "nbconvert_exporter": "python",
   "pygments_lexer": "ipython3",
   "version": "3.11.7"
  }
 },
 "nbformat": 4,
 "nbformat_minor": 5
}
